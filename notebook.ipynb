{
 "cells": [
  {
   "cell_type": "markdown",
   "source": [
    "##\n",
    "## APROXIMACION INGENUA\n",
    "##"
   ],
   "metadata": {
    "collapsed": false
   },
   "id": "d65f735717bcea4d"
  },
  {
   "cell_type": "markdown",
   "source": [
    "#\n",
    "# Empaquetado del entrenamiento del modelo\n",
    "#"
   ],
   "metadata": {
    "collapsed": false
   },
   "id": "ee00fca820fa76d"
  },
  {
   "cell_type": "code",
   "outputs": [],
   "source": [
    "# Elastic net \n",
    "\n",
    "\n",
    "def train_estimator(alpha=0.5, l1_ratio=0.5, verbose=1):\n",
    "    #verbose imprime con mas o menor detalle\n",
    "    #entrena modelos y me deja escoger el de menor error\n",
    "\n",
    "    import os\n",
    "    import pickle\n",
    "\n",
    "    import pandas as pd\n",
    "    from sklearn.linear_model import ElasticNet\n",
    "    from sklearn.metrics import mean_absolute_error, mean_squared_error, r2_score\n",
    "    from sklearn.model_selection import train_test_split\n",
    "\n",
    "    url = \"http://archive.ics.uci.edu/ml/machine-learning-databases/wine-quality/winequality-red.csv\"\n",
    "    df = pd.read_csv(url, sep=\";\")\n",
    "\n",
    "    y = df[\"quality\"]\n",
    "    x = df.copy()\n",
    "    x.pop(\"quality\")\n",
    "\n",
    "    (x_train, x_test, y_train, y_test) = train_test_split(\n",
    "        x,\n",
    "        y,\n",
    "        test_size=0.25,\n",
    "        random_state=0,\n",
    "    )\n",
    "\n",
    "    estimator = ElasticNet(alpha=alpha, l1_ratio=l1_ratio, random_state=12345)\n",
    "    #coeficientes elevados al cuadrado y el valor absoluto, se enfocan en mejorar el sobre ajuste, semilla fija en random state\n",
    "\n",
    "    estimator.fit(x_train, y_train)\n",
    "    y_pred = estimator.predict(x_test)\n",
    "\n",
    "    mse = mean_squared_error(y_test, y_pred)\n",
    "    mae = mean_absolute_error(y_test, y_pred)\n",
    "    r2 = r2_score(y_test, y_pred)\n",
    "\n",
    "    if verbose > 0:\n",
    "        print(estimator, \":\", sep=\"\")\n",
    "        print(f\"  MSE: {mse}\")\n",
    "        print(f\"  MAE: {mae}\")\n",
    "        print(f\"  R2: {r2}\")\n",
    "\n",
    "    if not os.path.exists(\"estimator.pickle\"):\n",
    "        saved_estimator = None\n",
    "    else:\n",
    "        with open(\"estimator.pickle\", \"rb\") as file:\n",
    "            saved_estimator = pickle.load(file)\n",
    "\n",
    "    if saved_estimator is None or estimator.score(\n",
    "        x_test, y_test\n",
    "    ) > saved_estimator.score(x_test, y_test):\n",
    "        with open(\"estimator.pickle\", \"wb\") as file:\n",
    "            pickle.dump(estimator, file)\n",
    "    #guarda el modelo si es mejor, y solo lo guarda si es mejor"
   ],
   "metadata": {
    "collapsed": false,
    "ExecuteTime": {
     "end_time": "2024-08-05T14:36:04.731556300Z",
     "start_time": "2024-08-05T14:36:04.670540100Z"
    }
   },
   "id": "d3a764c5ef604cd8",
   "execution_count": 4
  },
  {
   "cell_type": "markdown",
   "source": [
    "#\n",
    "# Experimiento\n",
    "#"
   ],
   "metadata": {
    "collapsed": false
   },
   "id": "b438acbcb13b02a6"
  },
  {
   "cell_type": "code",
   "outputs": [
    {
     "name": "stdout",
     "output_type": "stream",
     "text": [
      "ElasticNet(alpha=0.5, random_state=12345):\n",
      "  MSE: 0.5294843132862007\n",
      "  MAE: 0.5894666734018875\n",
      "  R2: 0.13368827268570616\n"
     ]
    }
   ],
   "source": [
    "train_estimator(0.5, 0.5)"
   ],
   "metadata": {
    "collapsed": false,
    "ExecuteTime": {
     "end_time": "2024-08-05T14:36:07.610743500Z",
     "start_time": "2024-08-05T14:36:04.736582400Z"
    }
   },
   "id": "7296b69757b03119",
   "execution_count": 5
  },
  {
   "cell_type": "code",
   "outputs": [
    {
     "name": "stdout",
     "output_type": "stream",
     "text": [
      "ElasticNet(alpha=0.2, l1_ratio=0.2, random_state=12345):\n",
      "  MSE: 0.43869119518947153\n",
      "  MAE: 0.5236106762028768\n",
      "  R2: 0.2822387414965034\n"
     ]
    }
   ],
   "source": [
    "train_estimator(0.2, 0.2)"
   ],
   "metadata": {
    "collapsed": false,
    "ExecuteTime": {
     "end_time": "2024-08-05T14:36:08.475848800Z",
     "start_time": "2024-08-05T14:36:07.613746Z"
    }
   },
   "id": "4a2ef0dca226db22",
   "execution_count": 6
  },
  {
   "cell_type": "markdown",
   "source": [
    "# _________________________ Refactorizacion del codigo --------------------------------"
   ],
   "metadata": {
    "collapsed": false
   },
   "id": "f41905690ca1d3a5"
  },
  {
   "cell_type": "markdown",
   "source": [
    "#\n",
    "# Carga de datos\n",
    "#"
   ],
   "metadata": {
    "collapsed": false
   },
   "id": "ae52c036a6a3245d"
  },
  {
   "cell_type": "code",
   "outputs": [],
   "source": [
    "def load_data():\n",
    "\n",
    "    import pandas as pd\n",
    "\n",
    "    url = \"http://archive.ics.uci.edu/ml/machine-learning-databases/wine-quality/winequality-red.csv\"\n",
    "    df = pd.read_csv(url, sep=\";\")\n",
    "\n",
    "    y = df[\"quality\"]\n",
    "    x = df.copy()\n",
    "    x.pop(\"quality\")\n",
    "\n",
    "    return x, y\n",
    "  "
   ],
   "metadata": {
    "collapsed": false,
    "ExecuteTime": {
     "end_time": "2024-08-05T14:36:08.476847400Z",
     "start_time": "2024-08-05T14:36:08.469149500Z"
    }
   },
   "id": "21b389f02bb7df77",
   "execution_count": 7
  },
  {
   "cell_type": "markdown",
   "source": [
    "#\n",
    "# Particionamiento de datos\n",
    "#"
   ],
   "metadata": {
    "collapsed": false
   },
   "id": "6172acc6a69df9aa"
  },
  {
   "cell_type": "code",
   "outputs": [],
   "source": [
    "def make_train_test_split(x, y):\n",
    "\n",
    "    from sklearn.model_selection import train_test_split\n",
    "\n",
    "    (x_train, x_test, y_train, y_test) = train_test_split(\n",
    "        x,\n",
    "        y,\n",
    "        test_size=0.25,\n",
    "        random_state=0,\n",
    "    )\n",
    "    return x_train, x_test, y_train, y_test\n",
    "  \n",
    "  "
   ],
   "metadata": {
    "collapsed": false,
    "ExecuteTime": {
     "end_time": "2024-08-05T14:36:08.492892600Z",
     "start_time": "2024-08-05T14:36:08.480485800Z"
    }
   },
   "id": "3cdba704df01d87c",
   "execution_count": 8
  },
  {
   "cell_type": "markdown",
   "source": [
    "#\n",
    "# Cálculo de metricas de evaluación\n",
    "#"
   ],
   "metadata": {
    "collapsed": false
   },
   "id": "83349f7824dc7b70"
  },
  {
   "cell_type": "code",
   "outputs": [],
   "source": [
    "def eval_metrics(y_true, y_pred):\n",
    "\n",
    "    from sklearn.metrics import mean_absolute_error, mean_squared_error, r2_score\n",
    "\n",
    "    mse = mean_squared_error(y_true, y_pred)\n",
    "    mae = mean_absolute_error(y_true, y_pred)\n",
    "    r2 = r2_score(y_true, y_pred)\n",
    "\n",
    "    return mse, mae, r2"
   ],
   "metadata": {
    "collapsed": false,
    "ExecuteTime": {
     "end_time": "2024-08-05T14:36:08.549261300Z",
     "start_time": "2024-08-05T14:36:08.487001Z"
    }
   },
   "id": "6df5cf2545c0ab80",
   "execution_count": 9
  },
  {
   "cell_type": "markdown",
   "source": [
    "#\n",
    "# Reporte de métricas de evaluación\n",
    "#"
   ],
   "metadata": {
    "collapsed": false
   },
   "id": "7fd2c59721af6e9e"
  },
  {
   "cell_type": "code",
   "outputs": [],
   "source": [
    "def report(estimator, mse, mae, r2):\n",
    "\n",
    "    print(estimator, \":\", sep=\"\")\n",
    "    print(f\"  MSE: {mse}\")\n",
    "    print(f\"  MAE: {mae}\")\n",
    "    print(f\"  R2: {r2}\")\n",
    "    "
   ],
   "metadata": {
    "collapsed": false,
    "ExecuteTime": {
     "end_time": "2024-08-05T14:36:08.550261600Z",
     "start_time": "2024-08-05T14:36:08.495895Z"
    }
   },
   "id": "158e533883f523ae",
   "execution_count": 10
  },
  {
   "cell_type": "markdown",
   "source": [
    "#\n",
    "# Almacenamiento del modelo\n",
    "#"
   ],
   "metadata": {
    "collapsed": false
   },
   "id": "4fd3c74efe4da7f0"
  },
  {
   "cell_type": "code",
   "outputs": [],
   "source": [
    "def save_best_estimator(estimator):\n",
    "\n",
    "    import os\n",
    "    import pickle\n",
    "\n",
    "    with open(\"estimator.pickle\", \"wb\") as file:\n",
    "        pickle.dump(estimator, file)\n",
    "        "
   ],
   "metadata": {
    "collapsed": false,
    "ExecuteTime": {
     "end_time": "2024-08-05T14:36:08.550261600Z",
     "start_time": "2024-08-05T14:36:08.502305Z"
    }
   },
   "id": "45458a9f4212defe",
   "execution_count": 11
  },
  {
   "cell_type": "markdown",
   "source": [
    "#\n",
    "# Carga del modelo\n",
    "#"
   ],
   "metadata": {
    "collapsed": false
   },
   "id": "8484d8c6ab1183b"
  },
  {
   "cell_type": "code",
   "outputs": [],
   "source": [
    "def load_best_estimator():\n",
    "\n",
    "    import os\n",
    "    import pickle\n",
    "\n",
    "    if not os.path.exists(\"estimator.pickle\"):\n",
    "        return None\n",
    "    with open(\"estimator.pickle\", \"rb\") as file:\n",
    "        estimator = pickle.load(file)\n",
    "\n",
    "    return estimator"
   ],
   "metadata": {
    "collapsed": false,
    "ExecuteTime": {
     "end_time": "2024-08-05T14:36:08.551262200Z",
     "start_time": "2024-08-05T14:36:08.512784Z"
    }
   },
   "id": "1b66c02350836c45",
   "execution_count": 12
  },
  {
   "cell_type": "markdown",
   "source": [
    "#\n",
    "# Entrenamiento\n",
    "#"
   ],
   "metadata": {
    "collapsed": false
   },
   "id": "c096998b49485b5c"
  },
  {
   "cell_type": "code",
   "outputs": [],
   "source": [
    "def train_estimator(alpha=0.5, l1_ratio=0.5, verbose=1):\n",
    "\n",
    "    from sklearn.linear_model import ElasticNet\n",
    "\n",
    "    x, y = load_data()\n",
    "    x_train, x_test, y_train, y_test = make_train_test_split(x, y)\n",
    "    estimator = ElasticNet(alpha=alpha, l1_ratio=l1_ratio, random_state=12345)\n",
    "    estimator.fit(x_train, y_train)\n",
    "    mse, mae, r2 = eval_metrics(y_test, y_pred=estimator.predict(x_test))\n",
    "    if verbose > 0:\n",
    "        report(estimator, mse, mae, r2)\n",
    "\n",
    "    best_estimator = load_best_estimator()\n",
    "    if best_estimator is None or estimator.score(x_test, y_test) > best_estimator.score(\n",
    "        x_test, y_test\n",
    "    ):\n",
    "        best_estimator = estimator\n",
    "\n",
    "    save_best_estimator(best_estimator)"
   ],
   "metadata": {
    "collapsed": false,
    "ExecuteTime": {
     "end_time": "2024-08-05T14:36:08.581269300Z",
     "start_time": "2024-08-05T14:36:08.522742400Z"
    }
   },
   "id": "119d4ed96357bec7",
   "execution_count": 13
  },
  {
   "cell_type": "code",
   "outputs": [
    {
     "name": "stdout",
     "output_type": "stream",
     "text": [
      "ElasticNet(alpha=0.5, random_state=12345):\n",
      "  MSE: 0.5294843132862007\n",
      "  MAE: 0.5894666734018875\n",
      "  R2: 0.13368827268570616\n"
     ]
    }
   ],
   "source": [
    "train_estimator(0.5, 0.5)"
   ],
   "metadata": {
    "collapsed": false,
    "ExecuteTime": {
     "end_time": "2024-08-05T14:37:14.501946900Z",
     "start_time": "2024-08-05T14:37:13.596994600Z"
    }
   },
   "id": "512959b2a69a9aa9",
   "execution_count": 14
  },
  {
   "cell_type": "code",
   "outputs": [
    {
     "name": "stdout",
     "output_type": "stream",
     "text": [
      "ElasticNet(alpha=0.2, l1_ratio=0.2, random_state=12345):\n",
      "  MSE: 0.43869119518947153\n",
      "  MAE: 0.5236106762028768\n",
      "  R2: 0.2822387414965034\n"
     ]
    }
   ],
   "source": [
    "train_estimator(0.2, 0.2)"
   ],
   "metadata": {
    "collapsed": false,
    "ExecuteTime": {
     "end_time": "2024-08-05T14:37:17.601592200Z",
     "start_time": "2024-08-05T14:37:16.729079800Z"
    }
   },
   "id": "2d4f39b779702aba",
   "execution_count": 15
  },
  {
   "cell_type": "code",
   "outputs": [
    {
     "name": "stdout",
     "output_type": "stream",
     "text": [
      "ElasticNet(alpha=0.1, l1_ratio=0.1, random_state=12345):\n",
      "  MSE: 0.4183271587407731\n",
      "  MAE: 0.5055024368693067\n",
      "  R2: 0.31555720466583137\n"
     ]
    }
   ],
   "source": [
    "train_estimator(0.1, 0.1)"
   ],
   "metadata": {
    "collapsed": false,
    "ExecuteTime": {
     "end_time": "2024-08-05T14:37:19.883235800Z",
     "start_time": "2024-08-05T14:37:18.848100200Z"
    }
   },
   "id": "75c138b7c7106cef",
   "execution_count": 16
  },
  {
   "cell_type": "code",
   "outputs": [
    {
     "name": "stdout",
     "output_type": "stream",
     "text": [
      "ElasticNet(alpha=0.05, l1_ratio=0.05, random_state=12345):\n",
      "  MSE: 0.40816015194032085\n",
      "  MAE: 0.49587028530073707\n",
      "  R2: 0.33219187542359396\n"
     ]
    }
   ],
   "source": [
    "train_estimator(0.05, 0.05)"
   ],
   "metadata": {
    "collapsed": false,
    "ExecuteTime": {
     "end_time": "2024-08-05T14:37:21.572108500Z",
     "start_time": "2024-08-05T14:37:20.696730600Z"
    }
   },
   "id": "59f3a76eb1cda324",
   "execution_count": 17
  },
  {
   "cell_type": "markdown",
   "source": [
    "#\n",
    "# Chekeador de estimador\n",
    "#"
   ],
   "metadata": {
    "collapsed": false
   },
   "id": "c52ff5da7cba1c02"
  },
  {
   "cell_type": "code",
   "outputs": [
    {
     "name": "stdout",
     "output_type": "stream",
     "text": [
      "ElasticNet(alpha=0.05, l1_ratio=0.05, random_state=12345):\n",
      "  MSE: 0.40816015194032085\n",
      "  MAE: 0.49587028530073707\n",
      "  R2: 0.33219187542359396\n"
     ]
    }
   ],
   "source": [
    "#no es usada en la practica\n",
    "def check_estimator():\n",
    "\n",
    "    x, y = load_data()\n",
    "    x_train, x_test, y_train, y_test = make_train_test_split(x, y)\n",
    "    estimator = load_best_estimator()\n",
    "    mse, mae, r2 = eval_metrics(y_test, y_pred=estimator.predict(x_test))\n",
    "    report(estimator, mse, mae, r2)\n",
    "\n",
    "\n",
    "#\n",
    "# Debe coincidir con el mejor modelo encontrado en la celdas anteriores\n",
    "#\n",
    "check_estimator()"
   ],
   "metadata": {
    "collapsed": false,
    "ExecuteTime": {
     "end_time": "2024-08-05T14:42:28.714130400Z",
     "start_time": "2024-08-05T14:42:27.840843700Z"
    }
   },
   "id": "ccfd47cc172572df",
   "execution_count": 18
  },
  {
   "cell_type": "markdown",
   "source": [
    " ___________ BUSQUEDA POR CODIGO _______________"
   ],
   "metadata": {
    "collapsed": false
   },
   "id": "61145637bb0c9105"
  },
  {
   "cell_type": "code",
   "outputs": [],
   "source": [
    "def make_hyperparameters_search(alphas, l1_ratios):\n",
    "    \n",
    "    for alpha in alphas:\n",
    "        for l1_ratio in l1_ratios:\n",
    "            train_estimator(alpha, l1_ratio=l1_ratio, verbose=0)"
   ],
   "metadata": {
    "collapsed": false,
    "ExecuteTime": {
     "end_time": "2024-08-05T14:42:40.820997200Z",
     "start_time": "2024-08-05T14:42:40.793471400Z"
    }
   },
   "id": "7359a5ca1d9ae18e",
   "execution_count": 19
  },
  {
   "cell_type": "markdown",
   "source": [
    "#\n",
    "# Entrenando con numpy\n",
    "#"
   ],
   "metadata": {
    "collapsed": false
   },
   "id": "9664647b36fb7fc8"
  },
  {
   "cell_type": "code",
   "outputs": [
    {
     "name": "stdout",
     "output_type": "stream",
     "text": [
      "ElasticNet(alpha=np.float64(0.0001), l1_ratio=np.float64(0.0001),\n",
      "           random_state=12345):\n",
      "  MSE: 0.40021745821413146\n",
      "  MAE: 0.4848004855172136\n",
      "  R2: 0.34518725328239785\n"
     ]
    }
   ],
   "source": [
    "import numpy as np\n",
    "\n",
    "alphas = np.linspace(0.0001, 0.5, 10)\n",
    "l1_ratios = np.linspace(0.0001, 0.5, 10)\n",
    "make_hyperparameters_search(alphas, l1_ratios)\n",
    "check_estimator()"
   ],
   "metadata": {
    "collapsed": false,
    "ExecuteTime": {
     "end_time": "2024-08-05T14:45:06.723053900Z",
     "start_time": "2024-08-05T14:43:33.736173800Z"
    }
   },
   "id": "cbeaff7146a46114",
   "execution_count": 20
  },
  {
   "cell_type": "markdown",
   "source": [
    "######\n",
    "### __________________- USANDO GRIDSEARCH ____________________"
   ],
   "metadata": {
    "collapsed": false
   },
   "id": "8d4103fadbd2f8e0"
  },
  {
   "cell_type": "code",
   "outputs": [],
   "source": [
    "def train_estimator(alphas, l1_ratios, n_splits=5, verbose=1):\n",
    "\n",
    "    from sklearn.linear_model import ElasticNet\n",
    "    from sklearn.model_selection import GridSearchCV\n",
    "\n",
    "    x, y = load_data()\n",
    "    x_train, x_test, y_train, y_test = make_train_test_split(x, y)\n",
    "\n",
    "    # -------------------------------------------------------------------------\n",
    "    # Búsqueda de parámetros con validación cruzada\n",
    "    #\n",
    "    estimator = GridSearchCV(\n",
    "        estimator=ElasticNet(\n",
    "            random_state=12345,\n",
    "        ),\n",
    "        param_grid={\n",
    "            \"alpha\": alphas,\n",
    "            \"l1_ratio\": l1_ratios,\n",
    "        },\n",
    "        cv=n_splits,\n",
    "        refit=True,\n",
    "        verbose=0,\n",
    "        return_train_score=False,\n",
    "    )\n",
    "    # -------------------------------------------------------------------------\n",
    "    #EL solo combina todos los posibles valores de alpha y l1\n",
    "\n",
    "    estimator.fit(x_train, y_train)\n",
    "\n",
    "    estimator = estimator.best_estimator_\n",
    "\n",
    "    mse, mae, r2 = eval_metrics(y_test, y_pred=estimator.predict(x_test))\n",
    "    if verbose > 0:\n",
    "        report(estimator, mse, mae, r2)\n",
    "\n",
    "    best_estimator = load_best_estimator()\n",
    "    if best_estimator is None or estimator.score(x_test, y_test) > best_estimator.score(\n",
    "        x_test, y_test\n",
    "    ):\n",
    "        best_estimator = estimator\n",
    "\n",
    "    save_best_estimator(best_estimator)\n"
   ],
   "metadata": {
    "collapsed": false,
    "ExecuteTime": {
     "end_time": "2024-08-05T14:52:30.006214800Z",
     "start_time": "2024-08-05T14:52:29.996178200Z"
    }
   },
   "id": "3b7e8d6d5d1ecc78",
   "execution_count": 21
  },
  {
   "cell_type": "code",
   "outputs": [
    {
     "name": "stdout",
     "output_type": "stream",
     "text": [
      "ElasticNet(alpha=np.float64(0.0001), l1_ratio=np.float64(0.0001),\n",
      "           random_state=12345):\n",
      "  MSE: 0.40021745821413146\n",
      "  MAE: 0.4848004855172136\n",
      "  R2: 0.34518725328239785\n"
     ]
    }
   ],
   "source": [
    "import numpy as np\n",
    "\n",
    "train_estimator(\n",
    "    alphas=np.linspace(0.0001, 0.5, 10),\n",
    "    l1_ratios=np.linspace(0.0001, 0.5, 10),\n",
    "    n_splits=5,\n",
    "    verbose=1,\n",
    ")"
   ],
   "metadata": {
    "collapsed": false,
    "ExecuteTime": {
     "end_time": "2024-08-05T14:53:15.686641200Z",
     "start_time": "2024-08-05T14:53:12.625897600Z"
    }
   },
   "id": "35aee0a2b98afc71",
   "execution_count": 22
  },
  {
   "cell_type": "code",
   "outputs": [],
   "source": [],
   "metadata": {
    "collapsed": false
   },
   "id": "b6615fb35243592d"
  }
 ],
 "metadata": {
  "kernelspec": {
   "display_name": "Python 3",
   "language": "python",
   "name": "python3"
  },
  "language_info": {
   "codemirror_mode": {
    "name": "ipython",
    "version": 2
   },
   "file_extension": ".py",
   "mimetype": "text/x-python",
   "name": "python",
   "nbconvert_exporter": "python",
   "pygments_lexer": "ipython2",
   "version": "2.7.6"
  }
 },
 "nbformat": 4,
 "nbformat_minor": 5
}
